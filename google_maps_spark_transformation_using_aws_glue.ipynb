{
	"metadata": {
		"kernelspec": {
			"name": "glue_pyspark",
			"display_name": "Glue PySpark",
			"language": "python"
		},
		"language_info": {
			"name": "Python_Glue_Session",
			"mimetype": "text/x-python",
			"codemirror_mode": {
				"name": "python",
				"version": 3
			},
			"pygments_lexer": "python3",
			"file_extension": ".py"
		}
	},
	"nbformat_minor": 4,
	"nbformat": 4,
	"cells": [
		{
			"cell_type": "markdown",
			"source": "# AWS Glue Studio Notebook",
			"metadata": {
				"editable": true,
				"trusted": true
			}
		},
		{
			"cell_type": "code",
			"source": "%idle_timeout 2880\n%glue_version 5.0\n%worker_type G.1X\n%number_of_workers 5\n\nimport sys\nfrom awsglue.transforms import *\nfrom awsglue.utils import getResolvedOptions\nfrom pyspark.context import SparkContext\nfrom awsglue.context import GlueContext\nfrom awsglue.job import Job\n  \nsc = SparkContext.getOrCreate()\nglueContext = GlueContext(sc)\nspark = glueContext.spark_session\njob = Job(glueContext)",
			"metadata": {
				"trusted": true,
				"editable": true
			},
			"execution_count": 1,
			"outputs": [
				{
					"name": "stdout",
					"text": "Welcome to the Glue Interactive Sessions Kernel\nFor more information on available magic commands, please type %help in any new cell.\n\nPlease view our Getting Started page to access the most up-to-date information on the Interactive Sessions kernel: https://docs.aws.amazon.com/glue/latest/dg/interactive-sessions.html\nInstalled kernel version: 1.0.7 \nCurrent idle_timeout is None minutes.\nidle_timeout has been set to 2880 minutes.\nSetting Glue version to: 5.0\nPrevious worker type: None\nSetting new worker type to: G.1X\nPrevious number of workers: None\nSetting new number of workers to: 5\nTrying to create a Glue session for the kernel.\nSession Type: glueetl\nWorker Type: G.1X\nNumber of Workers: 5\nIdle Timeout: 2880\nSession ID: 94858b01-3f85-4f19-96f2-be95e05b0b35\nApplying the following default arguments:\n--glue_kernel_version 1.0.7\n--enable-glue-datacatalog true\nWaiting for session 94858b01-3f85-4f19-96f2-be95e05b0b35 to get into ready status...\nSession 94858b01-3f85-4f19-96f2-be95e05b0b35 has been created.\n\n",
					"output_type": "stream"
				}
			]
		},
		{
			"cell_type": "code",
			"source": "from pyspark.sql.functions import *\nfrom datetime import datetime\nfrom awsglue.dynamicframe import DynamicFrame",
			"metadata": {
				"trusted": true,
				"tags": []
			},
			"execution_count": 12,
			"outputs": [
				{
					"name": "stdout",
					"text": "\n",
					"output_type": "stream"
				}
			]
		},
		{
			"cell_type": "code",
			"source": "s3_path = \"s3://google-maps-etl-project-amar/raw_data/to_process/\"\n\nsource_dyf = glueContext.create_dynamic_frame_from_options(\n    connection_type=\"s3\",\n    format=\"json\",\n    connection_options={\"paths\": [s3_path]},\n    format_options={\"withHeader\": True},\n    transformation_ctx=\"source_dyf\",\n)",
			"metadata": {
				"trusted": true,
				"tags": []
			},
			"execution_count": 3,
			"outputs": [
				{
					"name": "stdout",
					"text": "\n",
					"output_type": "stream"
				}
			]
		},
		{
			"cell_type": "code",
			"source": "google_maps_df = source_dyf.toDF()",
			"metadata": {
				"trusted": true,
				"tags": []
			},
			"execution_count": 4,
			"outputs": [
				{
					"name": "stdout",
					"text": "/usr/lib/spark/python/lib/pyspark.zip/pyspark/sql/dataframe.py:147: UserWarning: DataFrame constructor is internal. Do not directly use it.\n",
					"output_type": "stream"
				}
			]
		},
		{
			"cell_type": "code",
			"source": "google_maps_df.show()",
			"metadata": {
				"trusted": true,
				"tags": []
			},
			"execution_count": 5,
			"outputs": [
				{
					"name": "stdout",
					"text": "+------+--------------------+\n|status|                data|\n+------+--------------------+\n|    ok|[{0x3bae17259d8f9...|\n+------+--------------------+\n",
					"output_type": "stream"
				}
			]
		},
		{
			"cell_type": "code",
			"source": "test_df = google_maps_df",
			"metadata": {
				"trusted": true,
				"tags": []
			},
			"execution_count": 6,
			"outputs": [
				{
					"name": "stdout",
					"text": "\n",
					"output_type": "stream"
				}
			]
		},
		{
			"cell_type": "code",
			"source": "test_df.withColumn(\"data\", explode(\"data\")).show(5, False)",
			"metadata": {
				"trusted": true,
				"tags": []
			},
			"execution_count": 7,
			"outputs": [
				{
					"name": "stdout",
					"text": "+------+------------------------------------------------------------------------------------------------------------------------------------------------------------------------------------------------------------------------------------------------------------------------------------------------------------------------------------------------------------------------------------------------------------------------------------------------------------------------------------------------------------------------------------------------------------------------------------------------------------------------------------------------------------------------------------------------------------------------------------------------------------------------------------------------------------------------------------------------------------------------------------------------------------------------------------------------------------------------------------------------------------------------------------------------------------------------------------------------------------------------------------------------------------------------------------------------------------------------------------------------------------------------------------------------------------------------------------------------------------------------------------------------------------------------------------------------------------------------------------------------------------------------------------------------------------------------------------------------------------------------------------------------------------------------------------------------------------------------------------------------------------------------------------------------------------------------------------------------------------------------------------------------------------------------------------------------------------------------------------------------------------------------------------+\n|status|data                                                                                                                                                                                                                                                                                                                                                                                                                                                                                                                                                                                                                                                                                                                                                                                                                                                                                                                                                                                                                                                                                                                                                                                                                                                                                                                                                                                                                                                                                                                                                                                                                                                                                                                                                                                                                                                                                                                                                                                                                                |\n+------+------------------------------------------------------------------------------------------------------------------------------------------------------------------------------------------------------------------------------------------------------------------------------------------------------------------------------------------------------------------------------------------------------------------------------------------------------------------------------------------------------------------------------------------------------------------------------------------------------------------------------------------------------------------------------------------------------------------------------------------------------------------------------------------------------------------------------------------------------------------------------------------------------------------------------------------------------------------------------------------------------------------------------------------------------------------------------------------------------------------------------------------------------------------------------------------------------------------------------------------------------------------------------------------------------------------------------------------------------------------------------------------------------------------------------------------------------------------------------------------------------------------------------------------------------------------------------------------------------------------------------------------------------------------------------------------------------------------------------------------------------------------------------------------------------------------------------------------------------------------------------------------------------------------------------------------------------------------------------------------------------------------------------------+\n|ok    |{0x3bae17259d8f93cd:0xfd285c942bc41b35, NULL, Snouters - Best Dog Boarding in Bangalore, Snouters - Best Dog Boarding in Bangalore, Dattatreya Temple St, DNR Layout, Palace Guttahalli, Bengaluru, Karnataka 560003, [Dattatreya Temple St, DNR Layout, Palace Guttahalli, Bengaluru, Karnataka 560003], 12.996199899999999, 77.5758489, 70, {4.9, NULL}, Asia/Calcutta, https://snouters.com/listing/ashwini-dog-boarding-in-malleshwaram-bangalore/, ChIJzZOPnSUXrjsRNRvEK5RcKP0, https://www.google.com/maps/place/data=!3m1!4b1!4m2!3m1!1s0x3bae17259d8f93cd:0xfd285c942bc41b35, [Dog day care center, Cat boarding service, Pet boarding service, Dog walker], NULL, {NULL, {[Open 24 hours], [Open 24 hours], [Open 24 hours], [Open 24 hours], [Open 24 hours], [Open 24 hours], [Open 24 hours]}}, Bengaluru, Karnataka, true, true, [{https://lh5.googleusercontent.com/p/AF1QipOHwZuVfFs4hkwwvhocNAc3XX1cOYWE2SUMsYGy=w203-h188-k-no, [1280, 1191], [203, 100]}, {https://lh5.googleusercontent.com/p/AF1QipMBhUf-XgzfRE9GZm5XKU7OTkD4EGVZ8xCyUK6t=w203-h270-k-no, [3072, 4096], [203, 100]}, {https://lh5.googleusercontent.com/p/AF1QipM7na7bLILI7HxHgiR3GjT-_l0W1bX2TQ5Pq3WF=w203-h152-k-no, [4032, 3024], [203, 100]}, {https://lh5.googleusercontent.com/p/AF1QipNuS2tMjryXqXZ-w_TDpFUqmAKqK5NL77qZWusM=w203-h188-k-no, [1200, 1116], [203, 100]}, {https://lh5.googleusercontent.com/p/AF1QipNdfnTi0Y7xpD3iCrJOgDC-40hZcx-RlM59yHdK=w203-h270-k-no, [3000, 4000], [203, 100]}, {https://lh5.googleusercontent.com/p/AF1QipNv4BCfDKrEvCiYT8mky1TIhSi3x9j4PUeWxYwn=w203-h152-k-no, [4032, 3024], [203, 100]}, {https://lh5.googleusercontent.com/p/AF1QipPsXTm9kAsV52nZm8Tm4POJJwzOmLtTakm8x1PJ=w203-h312-k-no, [831, 1280], [203, 100]}, {https://lh5.googleusercontent.com/p/AF1QipNOAUZnOBTjLhsjrGS5O0YTyu3hARwtZi70eJ8o=w203-h270-k-no, [864, 1152], [203, 100]}, {https://lh5.googleusercontent.com/p/AF1QipOs0LJ7mGebchpN2o1Q5jW3KBNnKP6u8HN7vY7I=w203-h270-k-no, [960, 1280], [203, 100]}], Open 24 hours, []}|\n|ok    |{0x3bae1713cfd852b5:0x81a3a635978f9f11, NULL, Dog & Cat Boarding, Dog & Cat Boarding, No. 4, Devegowda Road Post, Thimaiah Garden, RT Nagar, Bengaluru, Karnataka 560032, [No. 4, Devegowda Road Post, Thimaiah Garden, RT Nagar, Bengaluru, Karnataka 560032], 13.0187876, 77.5990142, 212, {4.7, NULL}, Asia/Calcutta, http://petcabboarding.com/, ChIJtVLYzxMXrjsREZ-PlzWmo4E, https://www.google.com/maps/place/data=!3m1!4b1!4m2!3m1!1s0x3bae1713cfd852b5:0x81a3a635978f9f11, [Pet boarding service], NULL, {NULL, {[7 am–10 pm], [7 am–10 pm], [7 am–10 pm], [7 am–10 pm], [7 am–10 pm], [7 am–10 pm], [7 am–10 pm]}}, Bengaluru, Karnataka, true, true, [{https://lh5.googleusercontent.com/p/AF1QipOKjfMUxZfLFkF_Qdzj1M53fn8pmCfdBWenuMo_=w203-h270-k-no, [864, 1152], [203, 100]}, {https://lh5.googleusercontent.com/p/AF1QipPFzFq_DzP2Fjk6pvtJMd015XgGC_GJ2Z2bOUD9=w203-h114-k-no, [3840, 2160], [203, 100]}, {https://lh5.googleusercontent.com/p/AF1QipPrGZI7anLtI1g2uS0Hm5LwZR7al2dBKbGmawqT=w203-h270-k-no, [1200, 1600], [203, 100]}, {https://lh5.googleusercontent.com/p/AF1QipN40d8LKw_ZVmZ7gVhCFWnB9qMrnD-JxLDelKud=w203-h270-k-no, [3072, 4096], [203, 100]}, {https://lh5.googleusercontent.com/p/AF1QipPjrQcrJefs2e7Xq8wWe9keGtt5SW3MujjDn46Z=w203-h446-k-no, [1080, 2376], [203, 100]}, {https://lh5.googleusercontent.com/p/AF1QipOIRhmKW5i1oCtx43OMfdtDc1lxxKRvkp7xAwQP=w203-h269-k-no, [3072, 4080], [203, 100]}, {https://lh5.googleusercontent.com/p/AF1QipOuObQIC_lxzhzlmcPMSByUtnYIYP7gtkgoH0bF=w203-h152-k-no, [4608, 3456], [203, 100]}, {https://lh5.googleusercontent.com/p/AF1QipPHK4VTitQoHEpK5tbCc-gSpxhX5zXWn2uv3yP0=w203-h152-k-no, [1280, 963], [203, 100]}, {https://lh5.googleusercontent.com/p/AF1QipMZvUx8pGBcG1Ew_KFLCfF1CunxYg3Ed2nRoUUa=w203-h292-k-no, [755, 1089], [203, 100]}], Open ⋅ Closes 10 pm, []}                                                                                                                                                                         |\n|ok    |{0x3bae140f318295d7:0xbcffee64748564df, 09742279644, Pet Stepin', Pet Stepin', 38, HAL Old Airport Rd, behind Manipal Hospital, Rustam Bagh Layout, Bengaluru, Karnataka 560017, [38, HAL Old Airport Rd, behind Manipal Hospital, Rustam Bagh Layout, Bengaluru, Karnataka 560017], 12.9568251, 77.6481632, 471, {4.5, NULL}, Asia/Calcutta, http://www.petstepin.com/, ChIJ15WCMQ8UrjsR32SFdGTu_7w, https://www.google.com/maps/place/data=!3m1!4b1!4m2!3m1!1s0x3bae140f318295d7:0xbcffee64748564df, [Dog day care center, Cattery, Pet boarding service], NULL, {NULL, {[12–5 pm], [12–5 pm], [12–5 pm], [12–5 pm], [12–5 pm], [12–5 pm], [3–5 pm]}}, Bengaluru, Karnataka, true, true, [{https://lh5.googleusercontent.com/p/AF1QipMMs0E1Z16LOHfKKifyMgiAfRosJJwEYmIRsHEr=w203-h114-k-no, [959, 540], [203, 100]}, {https://lh5.googleusercontent.com/p/AF1QipOEnB7C2iErxwyZDClOgjz3csnG3dGv6izr6tEm=w203-h114-k-no, [1242, 699], [203, 100]}, {https://lh5.googleusercontent.com/p/AF1QipOsmdvAlHFiLb3-2HDG4fZRRRHF4tOsidRBhJlm=w203-h114-k-no, [4032, 2269], [203, 100]}, {https://lh5.googleusercontent.com/p/AF1QipOSdjPc2io0JdY4PA2FbqIWeWR6pcsnF_Yj4b6C=w203-h152-k-no, [1280, 959], [203, 100]}, {https://lh5.googleusercontent.com/p/AF1QipNx0Urn9gy8Gta7_nabN3QlSvKDVu3KF1AfqCXn=w203-h231-k-no, [864, 985], [203, 100]}, {https://lh5.googleusercontent.com/p/AF1QipMnHar59M4myTnFHVzkMPdZTNrUa5UatS1LHOl6=w203-h270-k-no, [864, 1152], [203, 100]}, {https://lh5.googleusercontent.com/p/AF1QipPgFxr0e1uFVH55l3X_AssxVl7s30Ch4Y6GCGnd=w203-h152-k-no, [4032, 3024], [203, 100]}, {https://lh5.googleusercontent.com/p/AF1QipOaMSe4jxkCW2mCuHbsxd0txH2Ih2IZ1R8kizsc=w203-h152-k-no, [1280, 960], [203, 100]}, {https://lh5.googleusercontent.com/p/AF1QipMa9JV3Ya8Goe9jU6fES4IqHtJlxWFribLmWTb4=w203-h270-k-no, [960, 1280], [203, 100]}], Open ⋅ Closes 5 pm, []}                                                                                                                                                    |\n|ok    |{0x3bae15e9619e7eed:0x36ba836c33f2a837, NULL, Snouters - Pet Sitters Bangalore, Snouters - Pet Sitters Bangalore, 8th Main Rd, Koramangala, Bengaluru, Karnataka 560095, [8th Main Rd, Koramangala, Bengaluru, Karnataka 560095], 12.9315163, 77.6284861, 89, {4.8, NULL}, Asia/Calcutta, https://snouters.com/area/pet-boarding-koramangala-bangalore/, ChIJ7X6eYekVrjsRN6jyM2yDujY, https://www.google.com/maps/place/data=!3m1!4b1!4m2!3m1!1s0x3bae15e9619e7eed:0x36ba836c33f2a837, [Dog day care center, Cat boarding service, Pet boarding service, Dog trainer, Dog walker, Pet groomer, Pet sitter], NULL, {NULL, {[Open 24 hours], [Open 24 hours], [Open 24 hours], [Open 24 hours], [Open 24 hours], [Open 24 hours], [Open 24 hours]}}, Bengaluru, Karnataka, true, true, [{https://lh5.googleusercontent.com/p/AF1QipMKaHRZxX9IchJfqQRd5-GEk1y-IZbAUAMqji36=w203-h270-k-no, [768, 1024], [203, 100]}, {https://lh5.googleusercontent.com/p/AF1QipPwYvmzdszVi9ePo2mZ2F0F0OFyRH9SRHWLWkiA=w203-h114-k-no, [805, 453], [203, 100]}, {https://lh5.googleusercontent.com/p/AF1QipOK-j3AXBqv5Pwc2R0RHG7SHnROj_LPvceAEOGW=w203-h360-k-no, [720, 1280], [203, 100]}, {https://lh5.googleusercontent.com/p/AF1QipNg0T6oYSpnnXqvueQc_-F-wa-vokgAvwrI_EqZ=w203-h270-k-no, [1200, 1600], [203, 100]}, {https://lh5.googleusercontent.com/p/AF1QipMorRmKBhhO--Oy8aUeU4vhUENmgbrxm08i_qbD=w203-h152-k-no, [1024, 768], [203, 100]}, {https://lh5.googleusercontent.com/p/AF1QipMqf1NfmatOaebS8jV1uce_J_eIoUI8bBhKBY4O=w203-h270-k-no, [1200, 1600], [203, 100]}, {https://lh5.googleusercontent.com/p/AF1QipNcr2hY0mm1lNFYhMT_IAPob_DpznErIt0YL1ym=w203-h238-k-no, [1089, 1280], [203, 100]}, {https://lh5.googleusercontent.com/p/AF1QipOyDFqRB0DBE5LD_xn5rVmujQT-bY3U_8tulbX2=w203-h270-k-no, [1200, 1600], [203, 100]}, {https://lh5.googleusercontent.com/p/AF1QipN__zlJ5tkBNe07jYqBk_3jB5zcyai4CyZMPRZh=w203-h360-k-no, [900, 1600], [203, 100]}], Open 24 hours, []}                                                            |\n|ok    |{0x3bae1578547575e3:0x4d8237a3c5342541, 09008890369, Petbacking, 2nd Floor, Petbacking, 49/1, EAT St, Basavanagudi, Bengaluru, Karnataka 560004, [2nd Floor, 49/1, EAT St, Basavanagudi, Bengaluru, Karnataka 560004], 12.9402624, 77.5705854, 38, {4.7, NULL}, Asia/Calcutta, http://www.petbacking.com/, ChIJ43V1VHgVrjsRQSU0xaM3gk0, https://www.google.com/maps/place/data=!3m1!4b1!4m2!3m1!1s0x3bae1578547575e3:0x4d8237a3c5342541, [Pet boarding service, Pet funeral service, Pet sitter], NULL, {NULL, {[Open 24 hours], [Open 24 hours], [Open 24 hours], [Open 24 hours], [Open 24 hours], [Open 24 hours], [Open 24 hours]}}, Bengaluru, Karnataka, true, true, [{https://lh5.googleusercontent.com/p/AF1QipPwG8O12w9MJr9l6U7jn42hE-ksdhLGXMqdKw54=w203-h135-k-no, [6170, 4113], [203, 100]}, {https://lh5.googleusercontent.com/p/AF1QipMb2JFgIyzgdlhwFicOkREuyaGtvy6unF7RxkG6=w203-h135-k-no, [2988, 2000], [203, 100]}, {https://lh5.googleusercontent.com/p/AF1QipOyik0oCB6vrFliq8m5dh2S05htAVoPgA7LkHj9=w203-h135-k-no, [2600, 1733], [203, 100]}, {https://lh5.googleusercontent.com/p/AF1QipNexlyzuWAi4ObsKqwOCgRa-psKjIiiGMGfSrOQ=w203-h152-k-no, [3264, 2448], [203, 100]}, {https://lh5.googleusercontent.com/p/AF1QipN7hVwCyNclrzufFJOCyvNyQY_TF5QoyhlWIy_Y=w203-h270-k-no, [3000, 4000], [203, 100]}, {https://lh5.googleusercontent.com/p/AF1QipP0Vp11shO8T9W5NlkS6CtYJip17gjfKAj5PSt7=w342-h100-k-no, [12507, 3650], [203, 100]}, {https://streetviewpixels-pa.googleapis.com/v1/thumbnail?panoid=Gr88qbKryIUCnLZ5dw9G6g&cb_client=search.gws-prod.gps&w=203&h=100&yaw=70.14902&pitch=0&thumbfov=100, NULL, [203, 100]}], Open 24 hours, []}                                                                                                                                                                                                                                                                                                                                                               |\n+------+------------------------------------------------------------------------------------------------------------------------------------------------------------------------------------------------------------------------------------------------------------------------------------------------------------------------------------------------------------------------------------------------------------------------------------------------------------------------------------------------------------------------------------------------------------------------------------------------------------------------------------------------------------------------------------------------------------------------------------------------------------------------------------------------------------------------------------------------------------------------------------------------------------------------------------------------------------------------------------------------------------------------------------------------------------------------------------------------------------------------------------------------------------------------------------------------------------------------------------------------------------------------------------------------------------------------------------------------------------------------------------------------------------------------------------------------------------------------------------------------------------------------------------------------------------------------------------------------------------------------------------------------------------------------------------------------------------------------------------------------------------------------------------------------------------------------------------------------------------------------------------------------------------------------------------------------------------------------------------------------------------------------------------+\nonly showing top 5 rows\n",
					"output_type": "stream"
				}
			]
		},
		{
			"cell_type": "code",
			"source": "def process_google_maps_data(df):\n    df = df.withColumn(\"data\", explode(\"data\"))\n    df = df.select(\n        col(\"data.name\").alias(\"name\"),\n        #col(\"data.full_address\").alias(\"address\"),\n        regexp_replace(col(\"data.full_address\"), \",\", \"\").alias(\"address\"),\n        col(\"data.review_count\").alias(\"review_count\"),\n        col(\"data.phone_number\").alias(\"phone_number\"),\n        #col(\"data.rating\").alias(\"rating\"),\n        col(\"data.place_link\").alias(\"place_link\")\n    )\n    df = df.drop_duplicates([\"name\"])\n    return df",
			"metadata": {
				"trusted": true,
				"tags": []
			},
			"execution_count": 16,
			"outputs": [
				{
					"name": "stdout",
					"text": "\n",
					"output_type": "stream"
				}
			]
		},
		{
			"cell_type": "code",
			"source": "test_df.withColumn(\"data\", explode(\"data\")).select(\n    col(\"data.name\").alias(\"name\"),\n    col(\"data.full_address\").alias(\"address\"),\n    col(\"data.review_count\").alias(\"review_count\"),\n    col(\"data.phone_number\").alias(\"phone_number\"),\n    col(\"data.rating\").alias(\"rating\"),\n    col(\"data.place_link\").alias(\"place_link\")).drop_duplicates([\"name\"]).show(5)",
			"metadata": {
				"trusted": true,
				"tags": []
			},
			"execution_count": 16,
			"outputs": [
				{
					"name": "stdout",
					"text": "+--------------------+--------------------+------------+------------+-----------+--------------------+\n|                name|             address|review_count|phone_number|     rating|          place_link|\n+--------------------+--------------------+------------+------------+-----------+--------------------+\n|     AB's Happy Paws|12th, AB's Happy ...|         180| 08660764838|{4.8, null}|https://www.googl...|\n|          Anvis Inc.|Anvis Inc., 48, 2...|         123| 09148451003|{4.7, null}|https://www.googl...|\n|Asteer pet boardi...|5th phase, Asteer...|          58| 09513808471|{4.9, null}|https://www.googl...|\n|Astro Puppy Dog b...|Astro Puppy Dog b...|         103| 07892759603|{4.6, null}|https://www.googl...|\n|Becky's Bow Wow H...|Becky's Bow Wow H...|         429| 08618005311|{4.6, null}|https://www.googl...|\n+--------------------+--------------------+------------+------------+-----------+--------------------+\nonly showing top 5 rows\n",
					"output_type": "stream"
				}
			]
		},
		{
			"cell_type": "code",
			"source": "google_maps_processed_df = process_google_maps_data(test_df)\ngoogle_maps_processed_df.show(5)",
			"metadata": {
				"trusted": true,
				"tags": []
			},
			"execution_count": 17,
			"outputs": [
				{
					"name": "stdout",
					"text": "+--------------------+--------------------+------------+------------+--------------------+\n|                name|             address|review_count|phone_number|          place_link|\n+--------------------+--------------------+------------+------------+--------------------+\n|     AB's Happy Paws|12th AB's Happy P...|         180| 08660764838|https://www.googl...|\n|          Anvis Inc.|Anvis Inc. 48 2nd...|         123| 09148451003|https://www.googl...|\n|Asteer pet boardi...|5th phase Asteer ...|          58| 09513808471|https://www.googl...|\n|Astro Puppy Dog b...|Astro Puppy Dog b...|         103| 07892759603|https://www.googl...|\n|Bangalore pets villa|ground floor Bang...|          20| 07795833373|https://www.googl...|\n+--------------------+--------------------+------------+------------+--------------------+\nonly showing top 5 rows\n",
					"output_type": "stream"
				}
			]
		},
		{
			"cell_type": "code",
			"source": "def write_to_s3(df, s3_path, format_type=\"csv\"):\n    dynamic_frame = DynamicFrame.fromDF(df, glueContext, \"dynamic_frame\")\n    \n    glueContext.write_dynamic_frame.from_options(\n        frame=dynamic_frame,\n        connection_type=\"s3\",\n        connection_options={\"path\": f\"s3://google-maps-etl-project-amar/transformed_data/{s3_path}/\"},\n        format=format_type\n    )",
			"metadata": {
				"trusted": true,
				"tags": []
			},
			"execution_count": 18,
			"outputs": [
				{
					"name": "stdout",
					"text": "\n",
					"output_type": "stream"
				}
			]
		},
		{
			"cell_type": "code",
			"source": "write_to_s3(google_maps_processed_df, \"maps_data/transformed_data_{}\".format(datetime.now().strftime(\"%Y-%m-%d_%H-%M-%S\")), \"csv\")",
			"metadata": {
				"trusted": true,
				"tags": []
			},
			"execution_count": 20,
			"outputs": [
				{
					"name": "stdout",
					"text": "\n",
					"output_type": "stream"
				}
			]
		},
		{
			"cell_type": "code",
			"source": "",
			"metadata": {},
			"execution_count": null,
			"outputs": []
		}
	]
}